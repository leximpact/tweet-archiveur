{
 "cells": [
  {
   "cell_type": "code",
   "execution_count": null,
   "metadata": {},
   "outputs": [],
   "source": [
    "#hide\n"
   ]
  },
  {
   "cell_type": "markdown",
   "metadata": {},
   "source": [
    "# Tweet Archiveur\n",
    "\n",
    "> This project aim at storing tweets in a database. But you could use it without database."
   ]
  },
  {
   "cell_type": "markdown",
   "metadata": {},
   "source": [
    "- Input : tweetos id in a CSV file\n",
    "- Output : A databases of tweets and hastags\n",
    "\n",
    "The goal for us is to store tweets of all members of the French Parliament to get an idea of the trendings topics.\n",
    "\n",
    "But you could use the project for other purpose with other people."
   ]
  },
  {
   "cell_type": "markdown",
   "metadata": {},
   "source": [
    "## How to install the package\n",
    "\n",
    "TODO : push it to Pipy when :\n",
    "- Rename \"nom\" to name in users\n",
    "- reactivate unit tests (https://docs.github.com/en/actions/guides/creating-postgresql-service-containers)\n",
    "- Made scrapper a Class\n",
    "- Switch to SQL Alchemy\n",
    "- Flake8\n",
    "- Documentation"
   ]
  },
  {
   "cell_type": "markdown",
   "metadata": {},
   "source": [
    "`pip install tweetarchiveur`"
   ]
  },
  {
   "cell_type": "markdown",
   "metadata": {},
   "source": [
    "## How to use the package in your project"
   ]
  },
  {
   "cell_type": "markdown",
   "metadata": {},
   "source": [
    "There is two class :\n",
    "- A Scrapper() to use the Twitter API\n",
    "- A Database() to store tweets and hastags in it"
   ]
  },
  {
   "cell_type": "code",
   "execution_count": null,
   "metadata": {},
   "outputs": [
    {
     "name": "stderr",
     "output_type": "stream",
     "text": [
      "2021-03-22 10:21:59,837 -  tweet-archiveur INFO     Scrapper ready\n",
      "2021-03-22 10:21:59,841 -  tweet-archiveur INFO     Loading database module...\n",
      "2021-03-22 10:21:59,842 -  tweet-archiveur DEBUG    DEBUG : connect(user=tweet_archiveur_user, password=XXXX, host=localhost, port=8479, database=tweet_archiveur, url=None)\n",
      "2021-03-22 10:22:03,915 -  tweet-archiveur INFO     Done scrapping, we got 400 tweets from 2 tweetos.\n"
     ]
    }
   ],
   "source": [
    "from tweet_archiveur.scrapper import Scrapper\n",
    "from tweet_archiveur.database import Database\n",
    "\n",
    "# Force some variable outside Docker\n",
    "from os import environ\n",
    "environ[\"DATABASE_PORT\"] = '8479'\n",
    "environ[\"DATABASE_HOST\"] = 'localhost'\n",
    "environ[\"DATABASE_USER\"] = 'tweet_archiveur_user'\n",
    "environ[\"DATABASE_PASS\"] = '1234leximpact'\n",
    "environ[\"DATABASE_NAME\"] = 'tweet_archiveur'\n",
    "\n",
    "scrapper = Scrapper()\n",
    "df_users = scrapper.get_users_accounts('../tests/sample-users.csv')\n",
    "users_id = df_users.twitter_id.tolist()\n",
    "database = Database()\n",
    "database.create_tables_if_not_exist()\n",
    "database.insert_twitter_users(df_users)\n",
    "scrapper.get_all_tweet_and_store_them(database, users_id[0:2])\n",
    "del database\n",
    "del scrapper"
   ]
  },
  {
   "cell_type": "markdown",
   "metadata": {},
   "source": [
    "## How we use it\n",
    "\n",
    "We get the tweets of the 577 French Parliament member's every 8 hours and store them in a PostgreSQL database.\n",
    "\n",
    "We then explore them with Apache Superset.\n",
    "\n",
    "### How we deploy it\n",
    "\n",
    "Prepare the environment :\n",
    "```sh\n",
    "git clone https://github.com/leximpact/tweet-archiveur.git\n",
    "cd tweet-archiveur\n",
    "cp docker/docker.env .env\n",
    "```\n",
    "\n",
    "Edit the _.env_ to your needs.\n",
    "\n",
    "Run the application :\n",
    "```sh\n",
    "docker-compose up -d\n",
    "```\n",
    "\n",
    "To view what's going on :\n",
    "```sh\n",
    "docker logs tweet-archiveur_tweet_archiveur_1 -f\n",
    "```\n",
    "\n",
    "The script _archiveur.py_ use the package to get the parliament accounts from https://github.com/regardscitoyens/twitter-parlementaires\n",
    "\n",
    "The parameters is read in a _.env_ file.\n",
    "\n",
    "It is launched by the _entrypoint.sh_ script every 8 hours.\n",
    "\n",
    "To stop it :\n",
    "```sh\n",
    "docker-compose down\n",
    "```\n",
    "\n",
    "The data is kept in a docker volume, to clean them :\n",
    "```sh\n",
    "docker-compose down -v\n",
    "```"
   ]
  },
  {
   "cell_type": "markdown",
   "metadata": {},
   "source": [
    "## What to do with it ?"
   ]
  },
  {
   "cell_type": "markdown",
   "metadata": {},
   "source": [
    "- Most used hashtag (per period, per person)\n",
    "- Most/Less active user\n",
    "- Timeline of \n",
    "- NLP Topic detection\n",
    "- Word cloud"
   ]
  },
  {
   "cell_type": "markdown",
   "metadata": {},
   "source": [
    "# Annexes\n",
    "\n",
    "Exit code :\n",
    "- 1 : Unknown error when storing tweets\n",
    "- 2 : Unknown error getting tweets\n",
    "- 3 : Failed more than 3 consecutive times\n",
    "- 4 : no env"
   ]
  },
  {
   "cell_type": "markdown",
   "metadata": {},
   "source": [
    "If one thing fail no tweet will be saved.\n",
    "\n",
    "status code = 429 : 429 'Too many requests' error is returned when you exceed the maximum number of requests allowed "
   ]
  },
  {
   "cell_type": "code",
   "execution_count": null,
   "metadata": {},
   "outputs": [],
   "source": []
  }
 ],
 "metadata": {
  "kernelspec": {
   "display_name": "Python 3",
   "language": "python",
   "name": "python3"
  }
 },
 "nbformat": 4,
 "nbformat_minor": 4
}
