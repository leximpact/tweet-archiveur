{
 "cells": [
  {
   "cell_type": "code",
   "execution_count": null,
   "metadata": {},
   "outputs": [],
   "source": [
    "# default_exp scrapper"
   ]
  },
  {
   "cell_type": "markdown",
   "metadata": {},
   "source": [
    "# Tweet Scrapper\n",
    "\n",
    "> Use Twitter API to get tweets"
   ]
  },
  {
   "cell_type": "code",
   "execution_count": null,
   "metadata": {},
   "outputs": [],
   "source": [
    "#hide\n",
    "from nbdev.showdoc import *"
   ]
  },
  {
   "cell_type": "code",
   "execution_count": null,
   "metadata": {},
   "outputs": [],
   "source": [
    "#hide\n",
    "# Put these at the top of every notebook, to get automatic reloading and inline plotting\n",
    "%reload_ext autoreload\n",
    "%autoreload 2\n",
    "#%matplotlib inline\n",
    "from IPython.core.interactiveshell import InteractiveShell\n",
    "InteractiveShell.ast_node_interactivity = \"all\""
   ]
  },
  {
   "cell_type": "code",
   "execution_count": null,
   "metadata": {},
   "outputs": [],
   "source": [
    "#export\n",
    "import pandas as pd\n",
    "import tweepy\n",
    "from os import getenv\n",
    "from dotenv import load_dotenv\n",
    "import time\n",
    "import datetime\n",
    "import logging"
   ]
  },
  {
   "cell_type": "code",
   "execution_count": null,
   "metadata": {},
   "outputs": [],
   "source": [
    "#export\n",
    "class Scrapper():\n",
    "    \n",
    "    logger = None\n",
    "    \n",
    "    def __init__(self): \n",
    "        # TODO : accept a logger in constructor\n",
    "        # TODO : accept the tweet config in constructor\n",
    "        if getenv('TWITTER_CONSUMER_KEY') is None or len(getenv('TWITTER_CONSUMER_KEY')) == 0:\n",
    "            # Load .env only in Notebook, it will be populated at runtime by docker\n",
    "            from pathlib import Path\n",
    "            env_path = Path('..') / '.env'\n",
    "            if env_path.is_file():\n",
    "                load_dotenv(dotenv_path=env_path)\n",
    "            else:\n",
    "                print('ERROR : no env !')\n",
    "                exit(4)\n",
    "        # Logging\n",
    "        self.logger = logging.getLogger(\"tweet-archiveur\")\n",
    "        logFormatter = logging.Formatter(\"%(asctime)s -  %(name)-12s %(levelname)-8s %(message)s\")\n",
    "        self.logger.setLevel(logging.DEBUG)\n",
    "        # # File logger\n",
    "        # fh = logging.FileHandler(\"tweet-archiveur.log\")\n",
    "        # fh.setLevel(logging.DEBUG)\n",
    "        # fh.setFormatter(logFormatter)\n",
    "        # logger.addHandler(fh)\n",
    "        if not len(self.logger.handlers):\n",
    "            # Console logger\n",
    "            consoleHandler = logging.StreamHandler()\n",
    "            consoleHandler.setFormatter(logFormatter)\n",
    "            self.logger.addHandler(consoleHandler)\n",
    "        self.logger.info(f'Scrapper ready')\n",
    "        \n",
    "    def get_users_accounts(self, csv = None):\n",
    "        csv = getenv(\"USERS_CSV\") if csv is None else csv\n",
    "        return pd.read_csv(csv)\n",
    "\n",
    "    # Convert UTC to Local based on the current date (do not work well around the day we change from/to summertime)\n",
    "    def datetime_from_utc_to_local(self, utc_datetime):\n",
    "        now_timestamp = time.time()\n",
    "        offset = datetime.datetime.fromtimestamp(now_timestamp) - datetime.datetime.utcfromtimestamp(now_timestamp)\n",
    "        return utc_datetime + offset\n",
    "\n",
    "\n",
    "    def get_user_tweets(self, user_id):\n",
    "        auth = tweepy.AppAuthHandler(getenv(\"TWITTER_CONSUMER_KEY\"), getenv(\"TWITTER_CONSUMER_SECRET\"))\n",
    "        api = tweepy.API(auth, wait_on_rate_limit=True)\n",
    "        tweets = []\n",
    "        hashtags = []\n",
    "        for tweet in tweepy.Cursor(api.user_timeline, id=user_id, tweet_mode='extended').items(100):\n",
    "            tweet_tmp = {\n",
    "                'twitter_id' : user_id,\n",
    "                'tweet_id' : tweet.id,\n",
    "                'datetime_utc' : tweet.created_at,\n",
    "                'datetime_local' : self.datetime_from_utc_to_local(tweet.created_at),\n",
    "                'text' : tweet.full_text, # .encode('utf8')\n",
    "                'retweet' : tweet.retweet_count,\n",
    "                'favorite' : tweet.favorite_count\n",
    "            }\n",
    "            tweets.append(tweet_tmp)\n",
    "            for h in tweet.entities.get('hashtags'):\n",
    "                hashtag = {\n",
    "                    'tweet_id' : tweet_tmp['tweet_id'],\n",
    "                    'twitter_id' : tweet_tmp['twitter_id'],\n",
    "                    'datetime_local' : tweet_tmp['datetime_local'],\n",
    "                    'hashtag' : h['text']\n",
    "                }\n",
    "                hashtags.append(hashtag)\n",
    "        return tweets, hashtags\n",
    "\n",
    "    '''\n",
    "    Get all the tweets of all the users\n",
    "    input : a list of twitter_id\n",
    "    output : a list of all tweets\n",
    "    '''\n",
    "    def get_all_tweet_as_array(self, users_id):\n",
    "        tweets = []\n",
    "        hashtags = []\n",
    "        total_users = len(users_id)\n",
    "        for i, user_id in enumerate(users_id):\n",
    "            tweets_tmp, hashtags_tmp = self.get_user_tweets(user_id)\n",
    "            tweets += tweets_tmp\n",
    "            hashtags += hashtags_tmp\n",
    "            if i % 10 == 0:\n",
    "                info_str = f'Processing user {i} / {total_users} ({(i*100//total_users*100)/100}%)'\n",
    "                if self.logger is not None:\n",
    "                    self.logger.debug(info_str)\n",
    "                else:\n",
    "                    print(info_str)\n",
    "            #if i>3:\n",
    "            #    break\n",
    "        return tweets, hashtags\n",
    "\n",
    "    \n",
    "    def get_all_tweet_and_store_them(self, database, users_id_to_process):\n",
    "        # Do a while loop to handle retry on error\n",
    "        # We store a list of remaining id to process\n",
    "        total_tweet = 0\n",
    "        total_users = len(users_id_to_process)\n",
    "        consecutive_fail = 0\n",
    "        while len(users_id_to_process) > 0:\n",
    "            user_id = users_id_to_process[0]\n",
    "            try:\n",
    "                # Get tweets\n",
    "                tweets, hashtags = self.get_user_tweets(user_id)\n",
    "            except tweepy.TweepError as e:\n",
    "                if '401' in e.reason :\n",
    "                    self.logger.warning(f'Error processing {user_id} : The user have a private account, skipping.')\n",
    "                    users_id_to_process.pop(0)\n",
    "                    continue\n",
    "                self.logger.warning(f'Error processing {user_id} : tweepy.TweepError={e.reason} We will retry in 16 minutes to respect twitter API Rate Limit')\n",
    "                consecutive_fail += 1\n",
    "                if consecutive_fail > 3:\n",
    "                    self.logger.error(f'We fail {consecutive_fail} consecutive times, exiting.')\n",
    "                    exit(3)\n",
    "                time.sleep(16*60*consecutive_fail)\n",
    "                # We shuffle the list to try another user next time\n",
    "                random.shuffle(users_id_to_process)\n",
    "                continue\n",
    "            except:\n",
    "                e = sys.exc_info()[0]\n",
    "                self.logger.error(f'UNKNOW ERROR processing {user_id} STOPPING : Error={e}')\n",
    "                exit(2)\n",
    "            try:\n",
    "                # Save them to database\n",
    "                database.insert_tweets(pd.DataFrame(tweets))\n",
    "                database.insert_hashtags(pd.DataFrame(hashtags))\n",
    "            except:\n",
    "                e = sys.exc_info()[0]\n",
    "                self.logger.error(f'UNKNOW ERROR processing {user_id} STOPPING : Error={e}')\n",
    "                exit(1)\n",
    "            # Yes, we succeded\n",
    "            consecutive_fail = 0\n",
    "            # Remove user from the list to process\n",
    "            users_id_to_process.pop(0)\n",
    "            total_tweet += len(tweets)\n",
    "            i = total_users - len(users_id_to_process)\n",
    "            if i % 10 == 0:\n",
    "                self.logger.debug(f'We got {total_tweet} tweets for now. Processing user {i} / {total_users} ({(i*100//total_users*100)/100}%) {user_id=} ...')\n",
    "        self.logger.info(f'Done scrapping, we got {total_tweet} tweets from {total_users} tweetos.')"
   ]
  },
  {
   "cell_type": "code",
   "execution_count": null,
   "metadata": {},
   "outputs": [
    {
     "name": "stderr",
     "output_type": "stream",
     "text": [
      "2021-03-22 10:16:08,109 -  tweet-archiveur INFO     Scrapper ready\n"
     ]
    }
   ],
   "source": [
    "#export\n",
    "scrapper = Scrapper()"
   ]
  },
  {
   "cell_type": "code",
   "execution_count": null,
   "metadata": {},
   "outputs": [],
   "source": [
    "#hide\n",
    "df_users = scrapper.get_users_accounts()"
   ]
  },
  {
   "cell_type": "code",
   "execution_count": null,
   "metadata": {},
   "outputs": [
    {
     "data": {
      "text/plain": [
       "Index(['twitter', 'nom', 'nom_de_famille', 'prenom', 'sexe', 'twitter_tweets',\n",
       "       'twitter_followers', 'twitter_following', 'twitter_listed',\n",
       "       'twitter_favourites', 'twitter_verified', 'twitter_protected',\n",
       "       'twitter_id', 'twitter_name', 'twitter_description',\n",
       "       'twitter_created_at', 'sites_web', 'url_institution', 'slug',\n",
       "       'url_nosdeputes_api'],\n",
       "      dtype='object')"
      ]
     },
     "execution_count": null,
     "metadata": {},
     "output_type": "execute_result"
    }
   ],
   "source": [
    "#hide\n",
    "df_users.columns"
   ]
  },
  {
   "cell_type": "code",
   "execution_count": null,
   "metadata": {},
   "outputs": [
    {
     "data": {
      "text/html": [
       "<div>\n",
       "<style scoped>\n",
       "    .dataframe tbody tr th:only-of-type {\n",
       "        vertical-align: middle;\n",
       "    }\n",
       "\n",
       "    .dataframe tbody tr th {\n",
       "        vertical-align: top;\n",
       "    }\n",
       "\n",
       "    .dataframe thead th {\n",
       "        text-align: right;\n",
       "    }\n",
       "</style>\n",
       "<table border=\"1\" class=\"dataframe\">\n",
       "  <thead>\n",
       "    <tr style=\"text-align: right;\">\n",
       "      <th></th>\n",
       "      <th>twitter_id</th>\n",
       "      <th>nom</th>\n",
       "      <th>twitter_followers</th>\n",
       "      <th>twitter_tweets</th>\n",
       "    </tr>\n",
       "  </thead>\n",
       "  <tbody>\n",
       "    <tr>\n",
       "      <th>0</th>\n",
       "      <td>76584619</td>\n",
       "      <td>Person name</td>\n",
       "      <td>23085</td>\n",
       "      <td>6461</td>\n",
       "    </tr>\n",
       "    <tr>\n",
       "      <th>1</th>\n",
       "      <td>507168683</td>\n",
       "      <td>Person name</td>\n",
       "      <td>5717</td>\n",
       "      <td>1750</td>\n",
       "    </tr>\n",
       "    <tr>\n",
       "      <th>2</th>\n",
       "      <td>314472161</td>\n",
       "      <td>Person name</td>\n",
       "      <td>19323</td>\n",
       "      <td>2789</td>\n",
       "    </tr>\n",
       "  </tbody>\n",
       "</table>\n",
       "</div>"
      ],
      "text/plain": [
       "   twitter_id          nom  twitter_followers  twitter_tweets\n",
       "0    76584619  Person name              23085            6461\n",
       "1   507168683  Person name               5717            1750\n",
       "2   314472161  Person name              19323            2789"
      ]
     },
     "execution_count": null,
     "metadata": {},
     "output_type": "execute_result"
    }
   ],
   "source": [
    "#hide\n",
    "user_id = df_users.twitter_id[0]\n",
    "df_users = df_users[['twitter_id', 'nom', 'twitter_followers', 'twitter_tweets']].head(3)\n",
    "df_users['nom'] = 'Person name'\n",
    "df_users.to_csv('../tests/sample-users.csv')\n",
    "df_users"
   ]
  },
  {
   "cell_type": "code",
   "execution_count": null,
   "metadata": {},
   "outputs": [
    {
     "data": {
      "text/plain": [
       "[{'twitter_id': 76584619,\n",
       "  'tweet_id': 1373697810391044099,\n",
       "  'datetime_utc': datetime.datetime(2021, 3, 21, 18, 7, 34),\n",
       "  'datetime_local': datetime.datetime(2021, 3, 21, 19, 7, 34),\n",
       "  'text': 'Superbe victoire du @nimesolympique face au leader Lille. Tous les Nîmois sont fiers de vous. Nous croyons au maintien. Le Nîmes olympique mérite sa place en @Ligue1UberEats https://t.co/PgbEk0xkOB',\n",
       "  'retweet': 5,\n",
       "  'favorite': 13}]"
      ]
     },
     "execution_count": null,
     "metadata": {},
     "output_type": "execute_result"
    },
    {
     "data": {
      "text/plain": [
       "[{'tweet_id': 1373576438469775361,\n",
       "  'twitter_id': 76584619,\n",
       "  'datetime_local': datetime.datetime(2021, 3, 21, 11, 5, 17),\n",
       "  'hashtag': 'Trisomie21'},\n",
       " {'tweet_id': 1373576438469775361,\n",
       "  'twitter_id': 76584619,\n",
       "  'datetime_local': datetime.datetime(2021, 3, 21, 11, 5, 17),\n",
       "  'hashtag': 'JourneeMondialeDeLaTrisomie21'}]"
      ]
     },
     "execution_count": null,
     "metadata": {},
     "output_type": "execute_result"
    }
   ],
   "source": [
    "#hide\n",
    "tweets, hashtags = scrapper.get_user_tweets(user_id)\n",
    "tweets[0:1]\n",
    "hashtags[0:2]"
   ]
  },
  {
   "cell_type": "code",
   "execution_count": null,
   "metadata": {},
   "outputs": [
    {
     "data": {
      "text/plain": [
       "datetime.datetime(2021, 3, 21, 18, 7, 34)"
      ]
     },
     "execution_count": null,
     "metadata": {},
     "output_type": "execute_result"
    },
    {
     "data": {
      "text/plain": [
       "datetime.datetime(2021, 3, 21, 19, 7, 34)"
      ]
     },
     "execution_count": null,
     "metadata": {},
     "output_type": "execute_result"
    }
   ],
   "source": [
    "#hide\n",
    "tweets[0]['datetime_utc']\n",
    "created_date_local = scrapper.datetime_from_utc_to_local(tweets[0]['datetime_utc'])\n",
    "created_date_local"
   ]
  },
  {
   "cell_type": "markdown",
   "metadata": {},
   "source": [
    "## Tweets"
   ]
  },
  {
   "cell_type": "code",
   "execution_count": null,
   "metadata": {},
   "outputs": [],
   "source": [
    "#hide\n",
    "df_tweets = pd.DataFrame(tweets)"
   ]
  },
  {
   "cell_type": "code",
   "execution_count": null,
   "metadata": {},
   "outputs": [
    {
     "data": {
      "text/html": [
       "<div>\n",
       "<style scoped>\n",
       "    .dataframe tbody tr th:only-of-type {\n",
       "        vertical-align: middle;\n",
       "    }\n",
       "\n",
       "    .dataframe tbody tr th {\n",
       "        vertical-align: top;\n",
       "    }\n",
       "\n",
       "    .dataframe thead th {\n",
       "        text-align: right;\n",
       "    }\n",
       "</style>\n",
       "<table border=\"1\" class=\"dataframe\">\n",
       "  <thead>\n",
       "    <tr style=\"text-align: right;\">\n",
       "      <th></th>\n",
       "      <th>twitter_id</th>\n",
       "      <th>tweet_id</th>\n",
       "      <th>datetime_utc</th>\n",
       "      <th>datetime_local</th>\n",
       "      <th>text</th>\n",
       "      <th>retweet</th>\n",
       "      <th>favorite</th>\n",
       "    </tr>\n",
       "  </thead>\n",
       "  <tbody>\n",
       "    <tr>\n",
       "      <th>0</th>\n",
       "      <td>76584619</td>\n",
       "      <td>1373697810391044099</td>\n",
       "      <td>2021-03-21 18:07:34</td>\n",
       "      <td>2021-03-21 19:07:34</td>\n",
       "      <td>Superbe victoire du @nimesolympique face au leader Lille. Tous les Nîmois sont fiers de vous. Nous croyons au maintien. Le Nîmes olympique mérite sa place en @Ligue1UberEats https://t.co/PgbEk0xkOB</td>\n",
       "      <td>5</td>\n",
       "      <td>13</td>\n",
       "    </tr>\n",
       "    <tr>\n",
       "      <th>1</th>\n",
       "      <td>76584619</td>\n",
       "      <td>1373576438469775361</td>\n",
       "      <td>2021-03-21 10:05:17</td>\n",
       "      <td>2021-03-21 11:05:17</td>\n",
       "      <td>Aujourd'hui c'est la journée mondiale de la trisomie 21. Ne les oublions pas et n'oublions pas que la différence est une richesse. #Trisomie21 #JourneeMondialeDeLaTrisomie21 https://t.co/Pfp1zQckSx</td>\n",
       "      <td>89</td>\n",
       "      <td>262</td>\n",
       "    </tr>\n",
       "  </tbody>\n",
       "</table>\n",
       "</div>"
      ],
      "text/plain": [
       "   twitter_id             tweet_id        datetime_utc      datetime_local  \\\n",
       "0    76584619  1373697810391044099 2021-03-21 18:07:34 2021-03-21 19:07:34   \n",
       "1    76584619  1373576438469775361 2021-03-21 10:05:17 2021-03-21 11:05:17   \n",
       "\n",
       "                                                                                                                                                                                                    text  \\\n",
       "0  Superbe victoire du @nimesolympique face au leader Lille. Tous les Nîmois sont fiers de vous. Nous croyons au maintien. Le Nîmes olympique mérite sa place en @Ligue1UberEats https://t.co/PgbEk0xkOB   \n",
       "1  Aujourd'hui c'est la journée mondiale de la trisomie 21. Ne les oublions pas et n'oublions pas que la différence est une richesse. #Trisomie21 #JourneeMondialeDeLaTrisomie21 https://t.co/Pfp1zQckSx   \n",
       "\n",
       "   retweet  favorite  \n",
       "0        5        13  \n",
       "1       89       262  "
      ]
     },
     "execution_count": null,
     "metadata": {},
     "output_type": "execute_result"
    }
   ],
   "source": [
    "#hide\n",
    "pd.set_option('display.max_colwidth', None)\n",
    "df_tweets.head(2)"
   ]
  },
  {
   "cell_type": "code",
   "execution_count": null,
   "metadata": {},
   "outputs": [],
   "source": [
    "#hide\n",
    "df_tweets.to_csv('../tests/sample-tweets.csv')"
   ]
  },
  {
   "cell_type": "markdown",
   "metadata": {},
   "source": [
    "## Hashtags"
   ]
  },
  {
   "cell_type": "code",
   "execution_count": null,
   "metadata": {},
   "outputs": [
    {
     "data": {
      "text/html": [
       "<div>\n",
       "<style scoped>\n",
       "    .dataframe tbody tr th:only-of-type {\n",
       "        vertical-align: middle;\n",
       "    }\n",
       "\n",
       "    .dataframe tbody tr th {\n",
       "        vertical-align: top;\n",
       "    }\n",
       "\n",
       "    .dataframe thead th {\n",
       "        text-align: right;\n",
       "    }\n",
       "</style>\n",
       "<table border=\"1\" class=\"dataframe\">\n",
       "  <thead>\n",
       "    <tr style=\"text-align: right;\">\n",
       "      <th></th>\n",
       "      <th>tweet_id</th>\n",
       "      <th>twitter_id</th>\n",
       "      <th>datetime_local</th>\n",
       "      <th>hashtag</th>\n",
       "    </tr>\n",
       "  </thead>\n",
       "  <tbody>\n",
       "    <tr>\n",
       "      <th>0</th>\n",
       "      <td>1373576438469775361</td>\n",
       "      <td>76584619</td>\n",
       "      <td>2021-03-21 11:05:17</td>\n",
       "      <td>Trisomie21</td>\n",
       "    </tr>\n",
       "    <tr>\n",
       "      <th>1</th>\n",
       "      <td>1373576438469775361</td>\n",
       "      <td>76584619</td>\n",
       "      <td>2021-03-21 11:05:17</td>\n",
       "      <td>JourneeMondialeDeLaTrisomie21</td>\n",
       "    </tr>\n",
       "    <tr>\n",
       "      <th>2</th>\n",
       "      <td>1373395871736463361</td>\n",
       "      <td>76584619</td>\n",
       "      <td>2021-03-20 23:07:46</td>\n",
       "      <td>Bleus</td>\n",
       "    </tr>\n",
       "  </tbody>\n",
       "</table>\n",
       "</div>"
      ],
      "text/plain": [
       "              tweet_id  twitter_id      datetime_local  \\\n",
       "0  1373576438469775361    76584619 2021-03-21 11:05:17   \n",
       "1  1373576438469775361    76584619 2021-03-21 11:05:17   \n",
       "2  1373395871736463361    76584619 2021-03-20 23:07:46   \n",
       "\n",
       "                         hashtag  \n",
       "0                     Trisomie21  \n",
       "1  JourneeMondialeDeLaTrisomie21  \n",
       "2                          Bleus  "
      ]
     },
     "execution_count": null,
     "metadata": {},
     "output_type": "execute_result"
    }
   ],
   "source": [
    "#hide\n",
    "df_hashtags = pd.DataFrame(hashtags)\n",
    "df_hashtags.head(3)\n",
    "df_hashtags.to_csv('../tests/sample-hashtags.csv')"
   ]
  },
  {
   "cell_type": "markdown",
   "metadata": {},
   "source": [
    "## Loop other users to get all tweets"
   ]
  },
  {
   "cell_type": "code",
   "execution_count": null,
   "metadata": {},
   "outputs": [
    {
     "name": "stderr",
     "output_type": "stream",
     "text": [
      "2021-03-22 10:16:11,898 -  tweet-archiveur DEBUG    Processing user 0 / 2 (0.0%)\n"
     ]
    },
    {
     "name": "stdout",
     "output_type": "stream",
     "text": [
      "------ TWEETS   ---------------------------\n"
     ]
    },
    {
     "data": {
      "text/plain": [
       "[{'twitter_id': 76584619,\n",
       "  'tweet_id': 1373697810391044099,\n",
       "  'datetime_utc': datetime.datetime(2021, 3, 21, 18, 7, 34),\n",
       "  'datetime_local': datetime.datetime(2021, 3, 21, 19, 7, 34),\n",
       "  'text': 'Superbe victoire du @nimesolympique face au leader Lille. Tous les Nîmois sont fiers de vous. Nous croyons au maintien. Le Nîmes olympique mérite sa place en @Ligue1UberEats https://t.co/PgbEk0xkOB',\n",
       "  'retweet': 5,\n",
       "  'favorite': 13},\n",
       " {'twitter_id': 76584619,\n",
       "  'tweet_id': 1373576438469775361,\n",
       "  'datetime_utc': datetime.datetime(2021, 3, 21, 10, 5, 17),\n",
       "  'datetime_local': datetime.datetime(2021, 3, 21, 11, 5, 17),\n",
       "  'text': \"Aujourd'hui c'est la journée mondiale de la trisomie 21. Ne les oublions pas et n'oublions pas que la différence est une richesse. #Trisomie21 #JourneeMondialeDeLaTrisomie21 https://t.co/Pfp1zQckSx\",\n",
       "  'retweet': 89,\n",
       "  'favorite': 262}]"
      ]
     },
     "execution_count": null,
     "metadata": {},
     "output_type": "execute_result"
    },
    {
     "name": "stdout",
     "output_type": "stream",
     "text": [
      "------ HASHTAGS ---------------------------\n"
     ]
    },
    {
     "data": {
      "text/plain": [
       "[{'tweet_id': 1373576438469775361,\n",
       "  'twitter_id': 76584619,\n",
       "  'datetime_local': datetime.datetime(2021, 3, 21, 11, 5, 17),\n",
       "  'hashtag': 'Trisomie21'},\n",
       " {'tweet_id': 1373576438469775361,\n",
       "  'twitter_id': 76584619,\n",
       "  'datetime_local': datetime.datetime(2021, 3, 21, 11, 5, 17),\n",
       "  'hashtag': 'JourneeMondialeDeLaTrisomie21'}]"
      ]
     },
     "execution_count": null,
     "metadata": {},
     "output_type": "execute_result"
    }
   ],
   "source": [
    "users_id = df_users.twitter_id.tolist()[0:2]\n",
    "tweets, hashtag = scrapper.get_all_tweet_as_array(users_id)\n",
    "print(\"------ TWEETS   ---------------------------\")\n",
    "tweets[0:2]\n",
    "print(\"------ HASHTAGS ---------------------------\")\n",
    "hashtag[0:2]"
   ]
  },
  {
   "cell_type": "code",
   "execution_count": null,
   "metadata": {},
   "outputs": [
    {
     "name": "stderr",
     "output_type": "stream",
     "text": [
      "2021-03-22 10:17:13,060 -  tweet-archiveur INFO     Loading database module...\n",
      "2021-03-22 10:17:13,061 -  tweet-archiveur DEBUG    DEBUG : connect(user=tweet_archiveur_user, password=XXXX, host=localhost, port=8479, database=tweet_archiveur, url=None)\n",
      "2021-03-22 10:17:17,076 -  tweet-archiveur INFO     Done scrapping, we got 400 tweets from 2 tweetos.\n"
     ]
    }
   ],
   "source": [
    "# Force some variable outside Docker\n",
    "from os import environ\n",
    "environ[\"DATABASE_PORT\"] = '8479'\n",
    "environ[\"DATABASE_HOST\"] = 'localhost'\n",
    "environ[\"DATABASE_USER\"] = 'tweet_archiveur_user'\n",
    "environ[\"DATABASE_PASS\"] = '1234leximpact'\n",
    "environ[\"DATABASE_NAME\"] = 'tweet_archiveur'\n",
    "\n",
    "from tweet_archiveur.database import Database\n",
    "database = Database()\n",
    "users_id = df_users.twitter_id.tolist()[0:2]\n",
    "scrapper.get_all_tweet_and_store_them(database, users_id)\n",
    "del database"
   ]
  },
  {
   "cell_type": "code",
   "execution_count": null,
   "metadata": {},
   "outputs": [],
   "source": [
    "users_id"
   ]
  },
  {
   "cell_type": "code",
   "execution_count": null,
   "metadata": {},
   "outputs": [],
   "source": [
    "#hide\n",
    "tweets[3]\n",
    "i=20\n",
    "total_users=603\n",
    "print((i*100//total_users*100)/100)"
   ]
  },
  {
   "cell_type": "code",
   "execution_count": null,
   "metadata": {},
   "outputs": [],
   "source": []
  }
 ],
 "metadata": {
  "kernelspec": {
   "display_name": "Python 3",
   "language": "python",
   "name": "python3"
  }
 },
 "nbformat": 4,
 "nbformat_minor": 4
}
