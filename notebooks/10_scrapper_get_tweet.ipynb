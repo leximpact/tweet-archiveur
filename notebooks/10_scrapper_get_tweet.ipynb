{
 "cells": [
  {
   "cell_type": "code",
   "execution_count": null,
   "metadata": {},
   "outputs": [],
   "source": [
    "# default_exp scrapper"
   ]
  },
  {
   "cell_type": "markdown",
   "metadata": {},
   "source": [
    "# Tweet Scrapper\n",
    "\n",
    "> Use Twitter API to get tweets"
   ]
  },
  {
   "cell_type": "code",
   "execution_count": null,
   "metadata": {},
   "outputs": [],
   "source": [
    "#hide\n",
    "from nbdev.showdoc import *"
   ]
  },
  {
   "cell_type": "code",
   "execution_count": null,
   "metadata": {},
   "outputs": [],
   "source": [
    "#hide\n",
    "# Put these at the top of every notebook, to get automatic reloading and inline plotting\n",
    "%reload_ext autoreload\n",
    "%autoreload 2\n",
    "#%matplotlib inline\n",
    "from IPython.core.interactiveshell import InteractiveShell\n",
    "InteractiveShell.ast_node_interactivity = \"all\""
   ]
  },
  {
   "cell_type": "code",
   "execution_count": null,
   "metadata": {},
   "outputs": [],
   "source": [
    "#export\n",
    "import pandas as pd\n",
    "import tweepy\n",
    "from os import getenv\n",
    "from dotenv import load_dotenv\n",
    "import time\n",
    "import datetime\n"
   ]
  },
  {
   "cell_type": "code",
   "execution_count": null,
   "metadata": {},
   "outputs": [
    {
     "data": {
      "text/plain": [
       "True"
      ]
     },
     "execution_count": null,
     "metadata": {},
     "output_type": "execute_result"
    }
   ],
   "source": [
    "#hide\n",
    "# Load .env only in Notebook, it will be populated at runtime by docker\n",
    "from pathlib import Path\n",
    "env_path = Path('..') / '.env'\n",
    "if env_path.is_file():\n",
    "    load_dotenv(dotenv_path=env_path)\n",
    "else:\n",
    "    raise \"No .env found !\""
   ]
  },
  {
   "cell_type": "code",
   "execution_count": null,
   "metadata": {},
   "outputs": [],
   "source": [
    "#export\n",
    "def get_users_accounts(csv = None):\n",
    "    csv = getenv(\"USERS_CSV\") if csv is None else csv\n",
    "    return pd.read_csv(csv)"
   ]
  },
  {
   "cell_type": "code",
   "execution_count": null,
   "metadata": {},
   "outputs": [],
   "source": [
    "#hide\n",
    "df_users = get_users_accounts(USERS_CSV)"
   ]
  },
  {
   "cell_type": "code",
   "execution_count": null,
   "metadata": {},
   "outputs": [
    {
     "data": {
      "text/html": [
       "<div>\n",
       "<style scoped>\n",
       "    .dataframe tbody tr th:only-of-type {\n",
       "        vertical-align: middle;\n",
       "    }\n",
       "\n",
       "    .dataframe tbody tr th {\n",
       "        vertical-align: top;\n",
       "    }\n",
       "\n",
       "    .dataframe thead th {\n",
       "        text-align: right;\n",
       "    }\n",
       "</style>\n",
       "<table border=\"1\" class=\"dataframe\">\n",
       "  <thead>\n",
       "    <tr style=\"text-align: right;\">\n",
       "      <th></th>\n",
       "      <th>twitter</th>\n",
       "      <th>nom</th>\n",
       "      <th>nom_de_famille</th>\n",
       "      <th>prenom</th>\n",
       "      <th>sexe</th>\n",
       "      <th>twitter_tweets</th>\n",
       "      <th>twitter_followers</th>\n",
       "      <th>twitter_following</th>\n",
       "      <th>twitter_listed</th>\n",
       "      <th>twitter_favourites</th>\n",
       "      <th>twitter_verified</th>\n",
       "      <th>twitter_protected</th>\n",
       "      <th>twitter_id</th>\n",
       "      <th>twitter_name</th>\n",
       "      <th>twitter_description</th>\n",
       "      <th>twitter_created_at</th>\n",
       "      <th>sites_web</th>\n",
       "      <th>url_institution</th>\n",
       "      <th>slug</th>\n",
       "      <th>url_nosdeputes_api</th>\n",
       "    </tr>\n",
       "  </thead>\n",
       "  <tbody>\n",
       "    <tr>\n",
       "      <th>0</th>\n",
       "      <td>damienabad</td>\n",
       "      <td>Damien Abad</td>\n",
       "      <td>Abad</td>\n",
       "      <td>Damien</td>\n",
       "      <td>H</td>\n",
       "      <td>6457</td>\n",
       "      <td>23043</td>\n",
       "      <td>6427</td>\n",
       "      <td>0</td>\n",
       "      <td>4116</td>\n",
       "      <td>True</td>\n",
       "      <td>False</td>\n",
       "      <td>76584619</td>\n",
       "      <td>Damien Abad</td>\n",
       "      <td>Président des députés #LR @republicains_AN • D...</td>\n",
       "      <td>2009-09-23T07:21:37</td>\n",
       "      <td>http://www.damienabad.fr|http://www.damien-aba...</td>\n",
       "      <td>http://www2.assemblee-nationale.fr/deputes/fic...</td>\n",
       "      <td>damien-abad</td>\n",
       "      <td>https://www.nosdeputes.fr/damien-abad/csv</td>\n",
       "    </tr>\n",
       "    <tr>\n",
       "      <th>1</th>\n",
       "      <td>AbadieCaroline</td>\n",
       "      <td>Caroline Abadie</td>\n",
       "      <td>Abadie</td>\n",
       "      <td>Caroline</td>\n",
       "      <td>F</td>\n",
       "      <td>1747</td>\n",
       "      <td>5712</td>\n",
       "      <td>2305</td>\n",
       "      <td>127</td>\n",
       "      <td>1220</td>\n",
       "      <td>True</td>\n",
       "      <td>False</td>\n",
       "      <td>507168683</td>\n",
       "      <td>Abadie Caroline</td>\n",
       "      <td>Députée de l'Isère et coprd Groupe d’étude #Pr...</td>\n",
       "      <td>2012-02-28T10:05:23</td>\n",
       "      <td>http://www.abadiecaroline.fr|https://twitter.c...</td>\n",
       "      <td>http://www2.assemblee-nationale.fr/deputes/fic...</td>\n",
       "      <td>caroline-abadie</td>\n",
       "      <td>https://www.nosdeputes.fr/caroline-abadie/csv</td>\n",
       "    </tr>\n",
       "  </tbody>\n",
       "</table>\n",
       "</div>"
      ],
      "text/plain": [
       "          twitter              nom nom_de_famille    prenom sexe  \\\n",
       "0      damienabad      Damien Abad           Abad    Damien    H   \n",
       "1  AbadieCaroline  Caroline Abadie         Abadie  Caroline    F   \n",
       "\n",
       "   twitter_tweets  twitter_followers  twitter_following  twitter_listed  \\\n",
       "0            6457              23043               6427               0   \n",
       "1            1747               5712               2305             127   \n",
       "\n",
       "   twitter_favourites  twitter_verified  twitter_protected  twitter_id  \\\n",
       "0                4116              True              False    76584619   \n",
       "1                1220              True              False   507168683   \n",
       "\n",
       "      twitter_name                                twitter_description  \\\n",
       "0      Damien Abad  Président des députés #LR @republicains_AN • D...   \n",
       "1  Abadie Caroline  Députée de l'Isère et coprd Groupe d’étude #Pr...   \n",
       "\n",
       "    twitter_created_at                                          sites_web  \\\n",
       "0  2009-09-23T07:21:37  http://www.damienabad.fr|http://www.damien-aba...   \n",
       "1  2012-02-28T10:05:23  http://www.abadiecaroline.fr|https://twitter.c...   \n",
       "\n",
       "                                     url_institution             slug  \\\n",
       "0  http://www2.assemblee-nationale.fr/deputes/fic...      damien-abad   \n",
       "1  http://www2.assemblee-nationale.fr/deputes/fic...  caroline-abadie   \n",
       "\n",
       "                              url_nosdeputes_api  \n",
       "0      https://www.nosdeputes.fr/damien-abad/csv  \n",
       "1  https://www.nosdeputes.fr/caroline-abadie/csv  "
      ]
     },
     "execution_count": null,
     "metadata": {},
     "output_type": "execute_result"
    }
   ],
   "source": [
    "#hide\n",
    "df_users.head(2)"
   ]
  },
  {
   "cell_type": "code",
   "execution_count": null,
   "metadata": {},
   "outputs": [],
   "source": [
    "#hide\n",
    "user_id = df_users.twitter_id[0]"
   ]
  },
  {
   "cell_type": "code",
   "execution_count": null,
   "metadata": {},
   "outputs": [],
   "source": [
    "#export\n",
    "# Convert UTC to Local based on the current date (do not work well around the day we change from/to summertime)\n",
    "def datetime_from_utc_to_local(utc_datetime):\n",
    "    now_timestamp = time.time()\n",
    "    offset = datetime.datetime.fromtimestamp(now_timestamp) - datetime.datetime.utcfromtimestamp(now_timestamp)\n",
    "    return utc_datetime + offset"
   ]
  },
  {
   "cell_type": "code",
   "execution_count": null,
   "metadata": {},
   "outputs": [],
   "source": [
    "#export\n",
    "   \n",
    "def get_user_tweets(user_id):\n",
    "    auth = tweepy.AppAuthHandler(getenv(\"TWITTER_CONSUMER_KEY\"), getenv(\"TWITTER_CONSUMER_SECRET\"))\n",
    "    api = tweepy.API(auth)\n",
    "    tweets = []\n",
    "    for tweet in tweepy.Cursor(api.user_timeline, id=user_id, tweet_mode='extended').items(100):\n",
    "        #print(tweet)\n",
    "        tweet = {\n",
    "            'user_id':user_id,\n",
    "            'tweet_id':tweet.id,\n",
    "            'datetime_utc':tweet.created_at,\n",
    "            'datetime_local':datetime_from_utc_to_local(tweet.created_at),\n",
    "            'text':tweet.full_text, # .encode('utf8')\n",
    "            'retweet':tweet.retweet_count,\n",
    "            'favorite':tweet.favorite_count\n",
    "        }\n",
    "        tweets.append(tweet)\n",
    "    return tweets"
   ]
  },
  {
   "cell_type": "code",
   "execution_count": null,
   "metadata": {},
   "outputs": [],
   "source": [
    "#hide\n",
    "tweets = get_user_tweets(user_id)"
   ]
  },
  {
   "cell_type": "code",
   "execution_count": null,
   "metadata": {},
   "outputs": [
    {
     "data": {
      "text/plain": [
       "datetime.datetime(2021, 3, 18, 18, 50, 8)"
      ]
     },
     "execution_count": null,
     "metadata": {},
     "output_type": "execute_result"
    },
    {
     "data": {
      "text/plain": [
       "datetime.datetime(2021, 3, 18, 19, 50, 8)"
      ]
     },
     "execution_count": null,
     "metadata": {},
     "output_type": "execute_result"
    }
   ],
   "source": [
    "#hide\n",
    "tweets[0]['datetime_utc']\n",
    "created_date_local = datetime_from_utc_to_local(tweets[0]['datetime_utc'])\n",
    "created_date_local"
   ]
  },
  {
   "cell_type": "code",
   "execution_count": null,
   "metadata": {},
   "outputs": [],
   "source": [
    "#hide\n",
    "df_tweets = pd.DataFrame(tweets)"
   ]
  },
  {
   "cell_type": "code",
   "execution_count": null,
   "metadata": {},
   "outputs": [
    {
     "data": {
      "text/html": [
       "<div>\n",
       "<style scoped>\n",
       "    .dataframe tbody tr th:only-of-type {\n",
       "        vertical-align: middle;\n",
       "    }\n",
       "\n",
       "    .dataframe tbody tr th {\n",
       "        vertical-align: top;\n",
       "    }\n",
       "\n",
       "    .dataframe thead th {\n",
       "        text-align: right;\n",
       "    }\n",
       "</style>\n",
       "<table border=\"1\" class=\"dataframe\">\n",
       "  <thead>\n",
       "    <tr style=\"text-align: right;\">\n",
       "      <th></th>\n",
       "      <th>user_id</th>\n",
       "      <th>tweet_id</th>\n",
       "      <th>datetime_utc</th>\n",
       "      <th>datetime_local</th>\n",
       "      <th>text</th>\n",
       "      <th>retweet</th>\n",
       "      <th>favorite</th>\n",
       "    </tr>\n",
       "  </thead>\n",
       "  <tbody>\n",
       "    <tr>\n",
       "      <th>0</th>\n",
       "      <td>76584619</td>\n",
       "      <td>1372621356223885322</td>\n",
       "      <td>2021-03-18 18:50:08</td>\n",
       "      <td>2021-03-18 19:50:08</td>\n",
       "      <td>Quand la vaccination est à l'arrêt, le confinement est en marche. Terrible constat d'échec que d'être contraint de confiner une nouvelle fois. \\nIl est temps de sortir de cette gestion de crise sanitaire à la fois anxiogène, bavarde et contradictoire. #Castex19h  #confinement3</td>\n",
       "      <td>16</td>\n",
       "      <td>64</td>\n",
       "    </tr>\n",
       "    <tr>\n",
       "      <th>1</th>\n",
       "      <td>76584619</td>\n",
       "      <td>1372618033701748736</td>\n",
       "      <td>2021-03-18 18:36:55</td>\n",
       "      <td>2021-03-18 19:36:55</td>\n",
       "      <td>Cette décision de reconfinement est la conséquence directe d'une politique de vaccination chaotique. Avec la suspension puis la reprise du vaccin Astrazeneca, le Gouvernement invente le stop and go vaccinal. Vaccinez et augmentez nos lits de réa, sans quoi on devra tjrs confiner</td>\n",
       "      <td>41</td>\n",
       "      <td>137</td>\n",
       "    </tr>\n",
       "    <tr>\n",
       "      <th>2</th>\n",
       "      <td>76584619</td>\n",
       "      <td>1372292566469730307</td>\n",
       "      <td>2021-03-17 21:03:38</td>\n",
       "      <td>2021-03-17 22:03:38</td>\n",
       "      <td>Retour terrain : plusieurs centaines de rendez-vous annulés pour la primo-vaccination #AstraZeneca . Conséquence directe de la suspension de ce vaccin par le gouvernement. La défiance est en marche.</td>\n",
       "      <td>13</td>\n",
       "      <td>29</td>\n",
       "    </tr>\n",
       "    <tr>\n",
       "      <th>3</th>\n",
       "      <td>76584619</td>\n",
       "      <td>1372241502412419074</td>\n",
       "      <td>2021-03-17 17:40:43</td>\n",
       "      <td>2021-03-17 18:40:43</td>\n",
       "      <td>« Je ne crois pas à la primaire (…) @xavierbertrand est le rempart face au Rassemblement national (…) il rassemble bien au-delà de la droite » #EuropeSoir #Europe1 #confinement</td>\n",
       "      <td>93</td>\n",
       "      <td>189</td>\n",
       "    </tr>\n",
       "    <tr>\n",
       "      <th>4</th>\n",
       "      <td>76584619</td>\n",
       "      <td>1372205745631072257</td>\n",
       "      <td>2021-03-17 15:18:38</td>\n",
       "      <td>2021-03-17 16:18:38</td>\n",
       "      <td>🎙Retrouvons-nous ce soir à 18h20 sur @Europe1 pour l’émission #EuropeSoir, où je serai l’invité politique de @JulianBugier \\n- #LR @lesRepublicains https://t.co/1cqSp0r3rG</td>\n",
       "      <td>2</td>\n",
       "      <td>12</td>\n",
       "    </tr>\n",
       "    <tr>\n",
       "      <th>5</th>\n",
       "      <td>76584619</td>\n",
       "      <td>1372177146924265473</td>\n",
       "      <td>2021-03-17 13:25:00</td>\n",
       "      <td>2021-03-17 14:25:00</td>\n",
       "      <td>\"Je suis opposé au #confinement  le week-end, qui est une demi-mesure, sans efficacité sanitaire. Soit on peut tenir avec le système actuel de renfort sanitaire ; soit on ne peut pas tenir et on assume un reconfinement, en maintenant les écoles ouvertes» #MidiNews @CNEWS #LR https://t.co/bjN3XV5Uh3</td>\n",
       "      <td>4</td>\n",
       "      <td>16</td>\n",
       "    </tr>\n",
       "    <tr>\n",
       "      <th>6</th>\n",
       "      <td>76584619</td>\n",
       "      <td>1372159719645806595</td>\n",
       "      <td>2021-03-17 12:15:45</td>\n",
       "      <td>2021-03-17 13:15:45</td>\n",
       "      <td>\"Je ne comprends pas le timing de la suspension d'#AstraZenaca : pourquoi 24h avant l'avis de l’OMS et 72h avant l’Agence Européenne du Médicament ? Avant la suspension 43% des Français faisaient confiance en ce vaccin, maintenant c’est 20%. On a redonné du pouvoir aux Antivax!\" https://t.co/ve2ejPmUfJ</td>\n",
       "      <td>30</td>\n",
       "      <td>65</td>\n",
       "    </tr>\n",
       "  </tbody>\n",
       "</table>\n",
       "</div>"
      ],
      "text/plain": [
       "    user_id             tweet_id        datetime_utc      datetime_local  \\\n",
       "0  76584619  1372621356223885322 2021-03-18 18:50:08 2021-03-18 19:50:08   \n",
       "1  76584619  1372618033701748736 2021-03-18 18:36:55 2021-03-18 19:36:55   \n",
       "2  76584619  1372292566469730307 2021-03-17 21:03:38 2021-03-17 22:03:38   \n",
       "3  76584619  1372241502412419074 2021-03-17 17:40:43 2021-03-17 18:40:43   \n",
       "4  76584619  1372205745631072257 2021-03-17 15:18:38 2021-03-17 16:18:38   \n",
       "5  76584619  1372177146924265473 2021-03-17 13:25:00 2021-03-17 14:25:00   \n",
       "6  76584619  1372159719645806595 2021-03-17 12:15:45 2021-03-17 13:15:45   \n",
       "\n",
       "                                                                                                                                                                                                                                                                                                              text  \\\n",
       "0                            Quand la vaccination est à l'arrêt, le confinement est en marche. Terrible constat d'échec que d'être contraint de confiner une nouvelle fois. \\nIl est temps de sortir de cette gestion de crise sanitaire à la fois anxiogène, bavarde et contradictoire. #Castex19h  #confinement3   \n",
       "1                          Cette décision de reconfinement est la conséquence directe d'une politique de vaccination chaotique. Avec la suspension puis la reprise du vaccin Astrazeneca, le Gouvernement invente le stop and go vaccinal. Vaccinez et augmentez nos lits de réa, sans quoi on devra tjrs confiner   \n",
       "2                                                                                                           Retour terrain : plusieurs centaines de rendez-vous annulés pour la primo-vaccination #AstraZeneca . Conséquence directe de la suspension de ce vaccin par le gouvernement. La défiance est en marche.   \n",
       "3                                                                                                                                 « Je ne crois pas à la primaire (…) @xavierbertrand est le rempart face au Rassemblement national (…) il rassemble bien au-delà de la droite » #EuropeSoir #Europe1 #confinement   \n",
       "4                                                                                                                                      🎙Retrouvons-nous ce soir à 18h20 sur @Europe1 pour l’émission #EuropeSoir, où je serai l’invité politique de @JulianBugier \\n- #LR @lesRepublicains https://t.co/1cqSp0r3rG   \n",
       "5      \"Je suis opposé au #confinement  le week-end, qui est une demi-mesure, sans efficacité sanitaire. Soit on peut tenir avec le système actuel de renfort sanitaire ; soit on ne peut pas tenir et on assume un reconfinement, en maintenant les écoles ouvertes» #MidiNews @CNEWS #LR https://t.co/bjN3XV5Uh3   \n",
       "6  \"Je ne comprends pas le timing de la suspension d'#AstraZenaca : pourquoi 24h avant l'avis de l’OMS et 72h avant l’Agence Européenne du Médicament ? Avant la suspension 43% des Français faisaient confiance en ce vaccin, maintenant c’est 20%. On a redonné du pouvoir aux Antivax!\" https://t.co/ve2ejPmUfJ   \n",
       "\n",
       "   retweet  favorite  \n",
       "0       16        64  \n",
       "1       41       137  \n",
       "2       13        29  \n",
       "3       93       189  \n",
       "4        2        12  \n",
       "5        4        16  \n",
       "6       30        65  "
      ]
     },
     "execution_count": null,
     "metadata": {},
     "output_type": "execute_result"
    }
   ],
   "source": [
    "#hide\n",
    "pd.set_option('display.max_colwidth', None)\n",
    "df_tweets.head(7)"
   ]
  },
  {
   "cell_type": "code",
   "execution_count": null,
   "metadata": {},
   "outputs": [],
   "source": [
    "#hide\n",
    "df_tweets.to_csv('tweets-sample.csv')"
   ]
  },
  {
   "cell_type": "code",
   "execution_count": null,
   "metadata": {},
   "outputs": [],
   "source": [
    "#export\n",
    "'''\n",
    "Get all the tweets of all the users\n",
    "input : a list of twitter_id\n",
    "output : a list of all tweets\n",
    "'''\n",
    "def get_all_tweet(users_id, logger = None):\n",
    "    tweets = []\n",
    "    total_users = len(users_id)\n",
    "    for i, user_id in enumerate(users_id):\n",
    "        tweets += (get_user_tweets(user_id))\n",
    "        if i % 10 == 0:\n",
    "            if logger is not None:\n",
    "                logger.debug(f'Processing user {i} / {total_users} - {(i*100//total_users*100)/100}%')\n",
    "        #if i>3:\n",
    "        #    break\n",
    "    return tweets"
   ]
  },
  {
   "cell_type": "code",
   "execution_count": null,
   "metadata": {},
   "outputs": [
    {
     "name": "stderr",
     "output_type": "stream",
     "text": [
      "  0%|          | 3/603 [00:07<23:28,  2.35s/it]\n"
     ]
    },
    {
     "data": {
      "text/plain": [
       "400"
      ]
     },
     "execution_count": null,
     "metadata": {},
     "output_type": "execute_result"
    }
   ],
   "source": [
    "#hide\n",
    "tweets = get_all_tweet()\n",
    "len(tweets)"
   ]
  },
  {
   "cell_type": "code",
   "execution_count": null,
   "metadata": {},
   "outputs": [
    {
     "data": {
      "text/plain": [
       "{'user_id': 76584619,\n",
       " 'tweet_id': 1372241502412419074,\n",
       " 'datetime_utc': datetime.datetime(2021, 3, 17, 17, 40, 43),\n",
       " 'datetime_local': datetime.datetime(2021, 3, 17, 18, 40, 43),\n",
       " 'text': '« Je ne crois pas à la primaire (…) @xavierbertrand est le rempart face au Rassemblement national (…) il rassemble bien au-delà de la droite » #EuropeSoir #Europe1 #confinement',\n",
       " 'retweet': 93,\n",
       " 'favorite': 189}"
      ]
     },
     "execution_count": null,
     "metadata": {},
     "output_type": "execute_result"
    },
    {
     "name": "stdout",
     "output_type": "stream",
     "text": [
      "3.0\n"
     ]
    }
   ],
   "source": [
    "#hide\n",
    "tweets[3]\n",
    "i=20\n",
    "total_users=603\n",
    "print((i*100//total_users*100)/100)"
   ]
  },
  {
   "cell_type": "code",
   "execution_count": null,
   "metadata": {},
   "outputs": [],
   "source": []
  }
 ],
 "metadata": {
  "kernelspec": {
   "display_name": "Python 3",
   "language": "python",
   "name": "python3"
  }
 },
 "nbformat": 4,
 "nbformat_minor": 4
}
